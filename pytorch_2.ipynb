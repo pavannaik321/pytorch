{
 "cells": [
  {
   "cell_type": "markdown",
   "id": "9b1749b2",
   "metadata": {},
   "source": [
    "# Back Propogation Using Pytorch"
   ]
  },
  {
   "cell_type": "markdown",
   "id": "586bdfad",
   "metadata": {},
   "source": [
    "### y=x^2"
   ]
  },
  {
   "cell_type": "code",
   "execution_count": 9,
   "id": "6a48020a",
   "metadata": {},
   "outputs": [],
   "source": [
    "import torch"
   ]
  },
  {
   "cell_type": "code",
   "execution_count": 10,
   "id": "0cd8df47",
   "metadata": {},
   "outputs": [
    {
     "data": {
      "text/plain": [
       "tensor(4., requires_grad=True)"
      ]
     },
     "execution_count": 10,
     "metadata": {},
     "output_type": "execute_result"
    }
   ],
   "source": [
    "x=torch.tensor(4.0,requires_grad=True)\n",
    "x"
   ]
  },
  {
   "cell_type": "code",
   "execution_count": 11,
   "id": "e35f1eea",
   "metadata": {},
   "outputs": [
    {
     "data": {
      "text/plain": [
       "tensor(16., grad_fn=<PowBackward0>)"
      ]
     },
     "execution_count": 11,
     "metadata": {},
     "output_type": "execute_result"
    }
   ],
   "source": [
    "y=x**2\n",
    "y"
   ]
  },
  {
   "cell_type": "code",
   "execution_count": 12,
   "id": "0ae39a03",
   "metadata": {},
   "outputs": [],
   "source": [
    "### Back propogation y=2*x\n",
    "y.backward() ## gradient basically means the backpropogation the derivative part"
   ]
  },
  {
   "cell_type": "code",
   "execution_count": 13,
   "id": "fdae8b19",
   "metadata": {},
   "outputs": [
    {
     "name": "stdout",
     "output_type": "stream",
     "text": [
      "tensor(8.)\n"
     ]
    }
   ],
   "source": [
    "print(x.grad)"
   ]
  },
  {
   "cell_type": "code",
   "execution_count": 15,
   "id": "474a99f9",
   "metadata": {},
   "outputs": [],
   "source": [
    "lst=[[2,3,1],[4,5,3],[7,6,4]]\n",
    "torch_input=torch.tensor(lst,dtype=torch.float64,requires_grad=True)"
   ]
  },
  {
   "cell_type": "code",
   "execution_count": 16,
   "id": "6aa51e1d",
   "metadata": {},
   "outputs": [],
   "source": [
    "### y=x**3+x**2\n",
    "y=torch_input**3+torch_input**2"
   ]
  },
  {
   "cell_type": "code",
   "execution_count": 17,
   "id": "314120e6",
   "metadata": {},
   "outputs": [
    {
     "data": {
      "text/plain": [
       "tensor([[ 12.,  36.,   2.],\n",
       "        [ 80., 150.,  36.],\n",
       "        [392., 252.,  80.]], dtype=torch.float64, grad_fn=<AddBackward0>)"
      ]
     },
     "execution_count": 17,
     "metadata": {},
     "output_type": "execute_result"
    }
   ],
   "source": [
    "y"
   ]
  },
  {
   "cell_type": "code",
   "execution_count": 19,
   "id": "b3f2098b",
   "metadata": {},
   "outputs": [
    {
     "data": {
      "text/plain": [
       "tensor(1040., dtype=torch.float64, grad_fn=<SumBackward0>)"
      ]
     },
     "execution_count": 19,
     "metadata": {},
     "output_type": "execute_result"
    }
   ],
   "source": [
    "z=y.sum()\n",
    "z"
   ]
  },
  {
   "cell_type": "code",
   "execution_count": 20,
   "id": "8cc21801",
   "metadata": {},
   "outputs": [],
   "source": [
    "### the gradinet function what we are getting states that we can do back propogation"
   ]
  },
  {
   "cell_type": "code",
   "execution_count": 21,
   "id": "4bb5990b",
   "metadata": {},
   "outputs": [],
   "source": [
    "### Now we will do the back propogation\n",
    "### y=x**3+x**2\n",
    "### y=3x**2+2x\n",
    "z.backward()"
   ]
  },
  {
   "cell_type": "code",
   "execution_count": 22,
   "id": "72aef502",
   "metadata": {},
   "outputs": [
    {
     "data": {
      "text/plain": [
       "tensor([[ 16.,  33.,   5.],\n",
       "        [ 56.,  85.,  33.],\n",
       "        [161., 120.,  56.]], dtype=torch.float64)"
      ]
     },
     "execution_count": 22,
     "metadata": {},
     "output_type": "execute_result"
    }
   ],
   "source": [
    "torch_input.grad"
   ]
  },
  {
   "cell_type": "code",
   "execution_count": null,
   "id": "0752c6d9",
   "metadata": {},
   "outputs": [],
   "source": []
  }
 ],
 "metadata": {
  "kernelspec": {
   "display_name": "Python 3 (ipykernel)",
   "language": "python",
   "name": "python3"
  },
  "language_info": {
   "codemirror_mode": {
    "name": "ipython",
    "version": 3
   },
   "file_extension": ".py",
   "mimetype": "text/x-python",
   "name": "python",
   "nbconvert_exporter": "python",
   "pygments_lexer": "ipython3",
   "version": "3.7.1"
  }
 },
 "nbformat": 4,
 "nbformat_minor": 5
}
